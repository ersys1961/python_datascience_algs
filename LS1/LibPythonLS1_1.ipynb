{
  "nbformat": 4,
  "nbformat_minor": 0,
  "metadata": {
    "colab": {
      "name": "LibPythonLS1_1.ipynb",
      "provenance": [],
      "collapsed_sections": []
    },
    "kernelspec": {
      "name": "python3",
      "display_name": "Python 3"
    },
    "language_info": {
      "name": "python"
    }
  },
  "cells": [
    {
      "cell_type": "code",
      "metadata": {
        "colab": {
          "base_uri": "https://localhost:8080/"
        },
        "id": "YjLOBNl61Iwj",
        "outputId": "07a03794-77bd-4360-e914-3a979d707315"
      },
      "source": [
        "##  Задание 1\n",
        "import numpy as np\n",
        "a = np.array([[1, 2, 3, 3, 1],\n",
        "                [6, 8, 11, 10, 7]]).transpose()\n",
        "mean_a = np.mean(ar1, axis = 1)\n",
        "print(a)\n",
        "print(mean_a)\n"
      ],
      "execution_count": 43,
      "outputs": [
        {
          "output_type": "stream",
          "text": [
            "[[ 1  6]\n",
            " [ 2  8]\n",
            " [ 3 11]\n",
            " [ 3 10]\n",
            " [ 1  7]]\n",
            "[2.  8.4]\n"
          ],
          "name": "stdout"
        }
      ]
    },
    {
      "cell_type": "code",
      "metadata": {
        "colab": {
          "base_uri": "https://localhost:8080/"
        },
        "id": "Yplf_aQk2u4a",
        "outputId": "f1b93f80-67e3-4496-bf9d-144a1ef361d1"
      },
      "source": [
        "## Задание 2\n",
        "a_centered= a - mean_a\n",
        "print(a_centered)"
      ],
      "execution_count": 45,
      "outputs": [
        {
          "output_type": "stream",
          "text": [
            "[[-1.  -2.4]\n",
            " [ 0.  -0.4]\n",
            " [ 1.   2.6]\n",
            " [ 1.   1.6]\n",
            " [-1.  -1.4]]\n"
          ],
          "name": "stdout"
        }
      ]
    },
    {
      "cell_type": "code",
      "metadata": {
        "colab": {
          "base_uri": "https://localhost:8080/"
        },
        "id": "-4a86DDVISg_",
        "outputId": "7f1a57e2-9897-4453-e756-41ac4d8f8220"
      },
      "source": [
        "## Задание 3\n",
        "a_centered_sp = np.dot( a_centered[:, 0], a_centered[:, 1])\n",
        "print(a_centered_sp)\n",
        "print(a_centered_sp / (len(a_centered[:, 0]) - 1))"
      ],
      "execution_count": 64,
      "outputs": [
        {
          "output_type": "stream",
          "text": [
            "8.0\n",
            "2.0\n"
          ],
          "name": "stdout"
        }
      ]
    },
    {
      "cell_type": "code",
      "metadata": {
        "colab": {
          "base_uri": "https://localhost:8080/"
        },
        "id": "VA21fAzVM8sV",
        "outputId": "a2a73862-f104-46da-a0cd-88876dc0cac1"
      },
      "source": [
        "## Задание 4\n",
        "print(np.cov(a_centered.transpose()))"
      ],
      "execution_count": 67,
      "outputs": [
        {
          "output_type": "stream",
          "text": [
            "[[1.  2. ]\n",
            " [2.  4.3]]\n"
          ],
          "name": "stdout"
        }
      ]
    }
  ]
}