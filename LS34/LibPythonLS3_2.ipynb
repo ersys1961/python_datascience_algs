{
  "nbformat": 4,
  "nbformat_minor": 0,
  "metadata": {
    "colab": {
      "name": "LibPythonLS3_2.ipynb",
      "provenance": [],
      "collapsed_sections": []
    },
    "kernelspec": {
      "name": "python3",
      "display_name": "Python 3"
    },
    "language_info": {
      "name": "python"
    }
  },
  "cells": [
    {
      "cell_type": "code",
      "metadata": {
        "id": "17bvTXjeQe4F"
      },
      "source": [
        "import numpy as np"
      ],
      "execution_count": 2,
      "outputs": []
    },
    {
      "cell_type": "code",
      "metadata": {
        "colab": {
          "base_uri": "https://localhost:8080/"
        },
        "id": "Xr-yAfbLQ1Gy",
        "outputId": "e948dc0d-bc8f-4a3c-f642-0554da0cd696"
      },
      "source": [
        "# Задание 1\n",
        "x =np.arange(12, 24)\n",
        "print(x)"
      ],
      "execution_count": 26,
      "outputs": [
        {
          "output_type": "stream",
          "text": [
            "[12 13 14 15 16 17 18 19 20 21 22 23]\n"
          ],
          "name": "stdout"
        }
      ]
    },
    {
      "cell_type": "code",
      "metadata": {
        "colab": {
          "base_uri": "https://localhost:8080/"
        },
        "id": "1LC58NgfRvjA",
        "outputId": "b239f4bc-f78f-4d20-a674-6d8327b6b3e7"
      },
      "source": [
        "# Задание 2\n",
        "x1= x.reshape(2, 6)\n",
        "x2= x.reshape(6, 2)\n",
        "x3= x.reshape(3, 4)\n",
        "x4= x.reshape(4, 3)\n",
        "x5= x.reshape(12, 1)\n",
        "print(f'{x1} \\n {x2} \\n {x3} \\n {x4} \\n {x5}')\n"
      ],
      "execution_count": 11,
      "outputs": [
        {
          "output_type": "stream",
          "text": [
            "[[12 13 14 15 16 17]\n",
            " [18 19 20 21 22 23]] \n",
            " [[12 13]\n",
            " [14 15]\n",
            " [16 17]\n",
            " [18 19]\n",
            " [20 21]\n",
            " [22 23]] \n",
            " [[12 13 14 15]\n",
            " [16 17 18 19]\n",
            " [20 21 22 23]] \n",
            " [[12 13 14]\n",
            " [15 16 17]\n",
            " [18 19 20]\n",
            " [21 22 23]] \n",
            " [[12]\n",
            " [13]\n",
            " [14]\n",
            " [15]\n",
            " [16]\n",
            " [17]\n",
            " [18]\n",
            " [19]\n",
            " [20]\n",
            " [21]\n",
            " [22]\n",
            " [23]]\n"
          ],
          "name": "stdout"
        }
      ]
    },
    {
      "cell_type": "code",
      "metadata": {
        "colab": {
          "base_uri": "https://localhost:8080/"
        },
        "id": "4md7vaoATc_g",
        "outputId": "4212840b-9fb1-40d3-a382-c661f09c1765"
      },
      "source": [
        "# Задание 3\n",
        "# Задание 2\n",
        "x1= x.reshape(2, -1)\n",
        "x2= x.reshape(6, -1)\n",
        "x3= x.reshape(3, -1)\n",
        "x4= x.reshape(-1, 3)\n",
        "x5= x.reshape(-1, 1)\n",
        "print(f'{x1} \\n {x2} \\n {x3} \\n {x4} \\n {x5}')"
      ],
      "execution_count": 16,
      "outputs": [
        {
          "output_type": "stream",
          "text": [
            "[[12 13 14 15 16 17]\n",
            " [18 19 20 21 22 23]] \n",
            " [[12 13]\n",
            " [14 15]\n",
            " [16 17]\n",
            " [18 19]\n",
            " [20 21]\n",
            " [22 23]] \n",
            " [[12 13 14 15]\n",
            " [16 17 18 19]\n",
            " [20 21 22 23]] \n",
            " [[12 13 14]\n",
            " [15 16 17]\n",
            " [18 19 20]\n",
            " [21 22 23]] \n",
            " [[12]\n",
            " [13]\n",
            " [14]\n",
            " [15]\n",
            " [16]\n",
            " [17]\n",
            " [18]\n",
            " [19]\n",
            " [20]\n",
            " [21]\n",
            " [22]\n",
            " [23]]\n"
          ],
          "name": "stdout"
        }
      ]
    },
    {
      "cell_type": "code",
      "metadata": {
        "colab": {
          "base_uri": "https://localhost:8080/"
        },
        "id": "ASFe5Q7cUyD_",
        "outputId": "380d8211-2bd7-49a3-8d6b-c49fe09349be"
      },
      "source": [
        "# Задание 4\n",
        "# Нет\n",
        "print(x.shape)\n",
        "print(x5.shape)"
      ],
      "execution_count": 27,
      "outputs": [
        {
          "output_type": "stream",
          "text": [
            "(12,)\n",
            "(12, 1)\n"
          ],
          "name": "stdout"
        }
      ]
    },
    {
      "cell_type": "code",
      "metadata": {
        "colab": {
          "base_uri": "https://localhost:8080/"
        },
        "id": "4gkSo9uCWWIz",
        "outputId": "e558b660-8fbd-4a40-a528-3352cbd2dd5a"
      },
      "source": [
        "# Задание 5\n",
        "a = np.random.normal(0, 1, (3,4))\n",
        "af = a.flatten()\n",
        "print(a)\n",
        "print(af)"
      ],
      "execution_count": 29,
      "outputs": [
        {
          "output_type": "stream",
          "text": [
            "[[ 0.3736923  -1.42289667 -0.76524756  0.58954658]\n",
            " [-0.50597318  1.75139444  0.87006087  0.7925993 ]\n",
            " [ 1.07567176  0.21742794  0.17935549  0.50549961]]\n",
            "[ 0.3736923  -1.42289667 -0.76524756  0.58954658 -0.50597318  1.75139444\n",
            "  0.87006087  0.7925993   1.07567176  0.21742794  0.17935549  0.50549961]\n"
          ],
          "name": "stdout"
        }
      ]
    },
    {
      "cell_type": "code",
      "metadata": {
        "colab": {
          "base_uri": "https://localhost:8080/"
        },
        "id": "ErkazB4tYgYZ",
        "outputId": "b53e0da4-3b6b-4ba2-9904-2160ed7b64c6"
      },
      "source": [
        "# Задание 6\n",
        "b =np.arange(20, 0, -2)\n",
        "print(b)"
      ],
      "execution_count": 30,
      "outputs": [
        {
          "output_type": "stream",
          "text": [
            "[20 18 16 14 12 10  8  6  4  2]\n"
          ],
          "name": "stdout"
        }
      ]
    },
    {
      "cell_type": "code",
      "metadata": {
        "colab": {
          "base_uri": "https://localhost:8080/"
        },
        "id": "0Cb4aO55Y9PQ",
        "outputId": "f520adac-290a-4260-b5e4-0612100e4e40"
      },
      "source": [
        "# Задание 7\n",
        "# Разница в размерности массивов\n",
        "c =np.arange(20, 0, -2).reshape(-1, 1)\n",
        "print(c)\n",
        "print(b.shape, c.shape)"
      ],
      "execution_count": 33,
      "outputs": [
        {
          "output_type": "stream",
          "text": [
            "[[20]\n",
            " [18]\n",
            " [16]\n",
            " [14]\n",
            " [12]\n",
            " [10]\n",
            " [ 8]\n",
            " [ 6]\n",
            " [ 4]\n",
            " [ 2]]\n",
            "(10,) (10, 1)\n"
          ],
          "name": "stdout"
        }
      ]
    },
    {
      "cell_type": "code",
      "metadata": {
        "colab": {
          "base_uri": "https://localhost:8080/"
        },
        "id": "bx1UCflbbefj",
        "outputId": "308b50d9-feb7-489d-97c9-327da2fd63aa"
      },
      "source": [
        "# Задание 8\n",
        "a = np.zeros((2, 2))\n",
        "b = np.ones((3, 2))\n",
        "c = np.vstack((a, b))\n",
        "print(a)\n",
        "print(b)\n",
        "print(c)\n",
        "print(c.size)"
      ],
      "execution_count": 39,
      "outputs": [
        {
          "output_type": "stream",
          "text": [
            "[[0. 0.]\n",
            " [0. 0.]]\n",
            "[[1. 1.]\n",
            " [1. 1.]\n",
            " [1. 1.]]\n",
            "[[0. 0.]\n",
            " [0. 0.]\n",
            " [1. 1.]\n",
            " [1. 1.]\n",
            " [1. 1.]]\n",
            "10\n"
          ],
          "name": "stdout"
        }
      ]
    },
    {
      "cell_type": "code",
      "metadata": {
        "colab": {
          "base_uri": "https://localhost:8080/"
        },
        "id": "UtyBt8ofciyf",
        "outputId": "0e77343d-eb5f-4fe4-fe69-1f69b1c3d485"
      },
      "source": [
        "# Задание 9\n",
        "A =np.arange(0, 12).reshape(4, 3)\n",
        "At = A.transpose()\n",
        "B = np.dot(A, At)\n",
        "print(A)\n",
        "print(At)\n",
        "print(B)\n",
        "print(B.size, B.shape)\n",
        "print(f'Не получится, det = {np.linalg.det(B)}')\n"
      ],
      "execution_count": 46,
      "outputs": [
        {
          "output_type": "stream",
          "text": [
            "[[ 0  1  2]\n",
            " [ 3  4  5]\n",
            " [ 6  7  8]\n",
            " [ 9 10 11]]\n",
            "[[ 0  3  6  9]\n",
            " [ 1  4  7 10]\n",
            " [ 2  5  8 11]]\n",
            "[[  5  14  23  32]\n",
            " [ 14  50  86 122]\n",
            " [ 23  86 149 212]\n",
            " [ 32 122 212 302]]\n",
            "16 (4, 4)\n",
            "Не получится, det = 0.0\n"
          ],
          "name": "stdout"
        }
      ]
    },
    {
      "cell_type": "code",
      "metadata": {
        "id": "3rVWxH9teQ_v"
      },
      "source": [
        "# Задание 10\n",
        "np.random.seed(seed=42)"
      ],
      "execution_count": 48,
      "outputs": []
    },
    {
      "cell_type": "code",
      "metadata": {
        "colab": {
          "base_uri": "https://localhost:8080/"
        },
        "id": "hWabK57te6S3",
        "outputId": "915e6de1-92ea-4e5c-d9f6-880947666057"
      },
      "source": [
        "# Задание 11\n",
        "c = np.random.randint(0, 16, 16)\n",
        "print(c)"
      ],
      "execution_count": 59,
      "outputs": [
        {
          "output_type": "stream",
          "text": [
            "[15  7  8  3  0 13  0  9  3 11 13  6  1  2  0  4]\n"
          ],
          "name": "stdout"
        }
      ]
    },
    {
      "cell_type": "code",
      "metadata": {
        "colab": {
          "base_uri": "https://localhost:8080/"
        },
        "id": "REFNdFWxghSz",
        "outputId": "575c1e1b-3191-4dac-f3f0-8d37f571657c"
      },
      "source": [
        "# Задание 12\n",
        "C = c.reshape(4, -1)\n",
        "D = B + 10* C\n",
        "det_D = np.linalg.det(D)\n",
        "rank_D = np.linalg.matrix_rank(D)\n",
        "D_inv = np.linalg.inv(D)\n",
        "print(C)\n",
        "print(D)\n",
        "print(det_D, rank_D)\n",
        "print(D_inv)\n"
      ],
      "execution_count": 64,
      "outputs": [
        {
          "output_type": "stream",
          "text": [
            "[[15  7  8  3]\n",
            " [ 0 13  0  9]\n",
            " [ 3 11 13  6]\n",
            " [ 1  2  0  4]]\n",
            "[[155  84 103  62]\n",
            " [ 14 180  86 212]\n",
            " [ 53 196 279 272]\n",
            " [ 42 142 212 342]]\n",
            "648808800.0 4\n",
            "[[ 7.34059094e-03 -5.62908518e-04 -4.52503110e-03  2.61704219e-03]\n",
            " [ 2.31192918e-04  7.90938717e-03  3.11869999e-03 -7.42517672e-03]\n",
            " [-1.47704532e-03 -5.85149277e-03  7.51524948e-03 -2.08203095e-03]\n",
            " [-8.18731189e-05  4.12355689e-04 -5.39776896e-03  6.97616925e-03]]\n"
          ],
          "name": "stdout"
        }
      ]
    },
    {
      "cell_type": "code",
      "metadata": {
        "colab": {
          "base_uri": "https://localhost:8080/"
        },
        "id": "5v0SP83li0gR",
        "outputId": "30303dc3-42a2-4dd7-a608-4103d38462fb"
      },
      "source": [
        "# Задание 13\n",
        "D_inv[np.where(D_inv > 0)] = 1\n",
        "D_inv[np.where(D_inv < 0)] = 0\n",
        "E = np.where(D_inv, B, C)\n",
        "print(D_inv)\n",
        "print(E)"
      ],
      "execution_count": 68,
      "outputs": [
        {
          "output_type": "stream",
          "text": [
            "[[1. 0. 0. 1.]\n",
            " [1. 1. 1. 0.]\n",
            " [0. 0. 1. 0.]\n",
            " [0. 1. 0. 1.]]\n",
            "[[  5   7   8  32]\n",
            " [ 14  50  86   9]\n",
            " [  3  11 149   6]\n",
            " [  1 122   0 302]]\n"
          ],
          "name": "stdout"
        }
      ]
    }
  ]
}